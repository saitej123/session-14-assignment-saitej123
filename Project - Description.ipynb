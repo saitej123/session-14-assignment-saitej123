{
 "cells": [
  {
   "cell_type": "markdown",
   "source": [
    "### Project"
   ],
   "metadata": {
    "cell_id": "00000-680c3c7b-117e-43d7-968e-7df134cb5f3d",
    "deepnote_cell_type": "markdown"
   }
  },
  {
   "cell_type": "markdown",
   "source": [
    "For this project you have 4 files containing information about persons.\n",
    "\n",
    "The files are:\n",
    "* `personal_info.csv` -   personal information such as name, gender, etc. (one row per person)\n",
    "* `vehicles.csv` -   what vehicle people own (one row per person)\n",
    "* `employment.csv` -   where a person is employed (one row per person)\n",
    "* `update_status.csv` -   when the person's data was created and last updated\n",
    "\n",
    "Each file contains a key, `SSN`, which **uniquely** identifies a person.\n",
    "\n",
    "This key is present in **all** four files.\n",
    "\n",
    "You are guaranteed that the same SSN value is present in **every** file, and that it only appears **once per file**.\n",
    "\n",
    "In addition, the files are all sorted by SSN, i.e. the SSN values appear in the same order in each file."
   ],
   "metadata": {
    "cell_id": "00001-4d8d4fd7-c054-4c0e-9105-78e8d31d1dc4",
    "deepnote_cell_type": "markdown"
   }
  },
  {
   "cell_type": "markdown",
   "source": [
    "##### Goal 1\n",
    "\n",
    "Your first task is to create iterators for each of the four files that contained cleaned up data, of the correct type (e.g. string, int, date, etc), and represented by a named tuple.\n",
    "\n",
    "For now these four iterators are just separate, independent iterators."
   ],
   "metadata": {
    "cell_id": "00002-2ea1a651-d24a-410a-a0c2-efca60a76808",
    "deepnote_cell_type": "markdown"
   }
  },
  {
   "cell_type": "markdown",
   "source": [
    "##### Goal 2\n",
    "\n",
    "Create a single iterable that combines all the columns from all the iterators.\n",
    "\n",
    "The iterable should yield named tuples containing all the columns.\n",
    "Make sure that the SSN's across the files match!\n",
    "\n",
    "All the files are guaranteed to be in SSN sort order, and every SSN is unique, and every SSN appears in every file.\n",
    "\n",
    "Make sure the SSN is not repeated 4 times - one time per row is enough!"
   ],
   "metadata": {
    "cell_id": "00003-0d0dcee0-311e-4534-a82e-9ecaf09ae103",
    "deepnote_cell_type": "markdown"
   }
  },
  {
   "cell_type": "markdown",
   "source": [
    "##### Goal 3\n",
    "\n",
    "Next, you want to identify any stale records, where stale simply means the record has not been updated since 3/1/2017 (e.g. last update date < 3/1/2017). Create an iterator that only contains current records (i.e. not stale) based on the `last_updated` field from the `status_update` file."
   ],
   "metadata": {
    "cell_id": "00004-50dcb66c-e9c5-4483-a5b2-c67070f56e43",
    "deepnote_cell_type": "markdown"
   }
  },
  {
   "cell_type": "markdown",
   "source": [
    "##### Goal 4\n",
    "\n",
    "Find the largest group of car makes for each gender.\n",
    "\n",
    "Possibly more than one such group per gender exists (equal sizes)."
   ],
   "metadata": {
    "cell_id": "00005-c2e653f8-745d-4c95-b8be-ad4eb673e9f8",
    "deepnote_cell_type": "markdown"
   }
  },
  {
   "cell_type": "markdown",
   "source": [
    "#### Hints"
   ],
   "metadata": {
    "collapsed": true,
    "cell_id": "00006-2c87dc4f-f8a8-4087-983e-9fc980db5621",
    "deepnote_cell_type": "markdown"
   }
  },
  {
   "cell_type": "markdown",
   "source": [
    "You will not be able to use a simple split approach here, as I explain in the video.\n",
    "\n",
    "Instead you should use the `csv` module and the `reader` function.\n",
    "\n",
    "Here's a simple example of how to use it - you will need to expand on this for your project goals, but this is a good starting point."
   ],
   "metadata": {
    "cell_id": "00007-71f85cb7-61a6-4b05-b811-2f95cab00785",
    "deepnote_cell_type": "markdown"
   }
  },
  {
   "cell_type": "code",
   "execution_count": null,
   "source": [
    "import csv\r\n",
    "\r\n",
    "def read_file(file_name):\r\n",
    "    with open(file_name) as f:\r\n",
    "        rows = csv.reader(f, delimiter=',', quotechar='\"')\r\n",
    "        yield from rows\r\n",
    "    "
   ],
   "outputs": [],
   "metadata": {
    "collapsed": true,
    "cell_id": "00008-253cd0a4-0777-4be4-9395-4012f4b7aba4",
    "deepnote_cell_type": "code"
   }
  },
  {
   "cell_type": "code",
   "execution_count": null,
   "source": [
    "from itertools import islice\r\n",
    "\r\n",
    "rows = read_file('personal_info.csv')\r\n",
    "for row in islice(rows, 5):\r\n",
    "    print(row)"
   ],
   "outputs": [
    {
     "output_type": "stream",
     "name": "stdout",
     "text": [
      "['ssn', 'first_name', 'last_name', 'gender', 'language']\n",
      "['100-53-9824', 'Sebastiano', 'Tester', 'Male', 'Icelandic']\n",
      "['101-71-4702', 'Cayla', 'MacDonagh', 'Female', 'Lao']\n",
      "['101-84-0356', 'Nomi', 'Lipprose', 'Female', 'Yiddish']\n",
      "['104-22-0928', 'Justinian', 'Kunzelmann', 'Male', 'Dhivehi']\n"
     ]
    }
   ],
   "metadata": {
    "cell_id": "00009-d6a51b49-e19f-46c1-8a9d-564faba1e21c",
    "deepnote_cell_type": "code"
   }
  },
  {
   "cell_type": "markdown",
   "source": [
    "As you can see, the data is already separated into a list containing the individual fields - but of course they are all just strings."
   ],
   "metadata": {
    "cell_id": "00010-b9f2a193-d797-45b6-bc3c-4bf9d660f9ef",
    "deepnote_cell_type": "markdown"
   }
  },
  {
   "cell_type": "markdown",
   "source": [
    "### Good luck!"
   ],
   "metadata": {
    "cell_id": "00011-a3d6a559-f8a1-4c94-ade9-dd68a4d59759",
    "deepnote_cell_type": "markdown"
   }
  },
  {
   "cell_type": "markdown",
   "source": [
    "<a style='text-decoration:none;line-height:16px;display:flex;color:#5B5B62;padding:10px;justify-content:end;' href='https://deepnote.com?utm_source=created-in-deepnote-cell&projectId=ec90de38-255d-4b81-a5aa-8cef77d684bf' target=\"_blank\">\n",
    "<img alt='Created in deepnote.com' style='display:inline;max-height:16px;margin:0px;margin-right:7.5px;' src='data:image/svg+xml;base64,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' > </img>\n",
    "Created in <span style='font-weight:600;margin-left:4px;'>Deepnote</span></a>"
   ],
   "metadata": {
    "tags": [],
    "created_in_deepnote_cell": true,
    "deepnote_cell_type": "markdown"
   }
  }
 ],
 "nbformat": 4,
 "nbformat_minor": 2,
 "metadata": {
  "kernelspec": {
   "display_name": "Python 3",
   "language": "python",
   "name": "python3"
  },
  "language_info": {
   "codemirror_mode": {
    "name": "ipython",
    "version": 3
   },
   "file_extension": ".py",
   "mimetype": "text/x-python",
   "name": "python",
   "nbconvert_exporter": "python",
   "pygments_lexer": "ipython3",
   "version": "3.6.2"
  },
  "deepnote_notebook_id": "8f58b6e2-d138-4ed1-b49f-da90c2adbd3b",
  "deepnote_execution_queue": [],
  "deepnote": {}
 }
}